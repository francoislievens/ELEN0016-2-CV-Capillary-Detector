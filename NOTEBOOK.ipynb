{
 "cells": [
  {
   "cell_type": "markdown",
   "id": "8ecf30a7",
   "metadata": {},
   "source": [
    "# [ELEN0016] Computer Vision: 2021 Project\n",
    "\n",
    "### Preliminary Notes\n",
    "\n",
    "In order to realize the best performances, our code use cuda to paralelize deep learning and computer vision operation. </br>\n",
    "\n",
    "This imply that if the parameter 'cuda' is given for the variable DEVICE, this code will be using the CUDA implementation of some operations of the library OpenCV. So, OpenCV cuda must be previously compilled and installed in the environment that you are using. </br>\n",
    "\n",
    "If a gpu compatible with cuda or the cuda-OpenCV library is not available, this code can be run by using the value 'cpu' for the following variable DEVICE.\n",
    "\n",
    "Our code need the following requirements:\n",
    "\n",
    "    albumentations==1.1.0\n",
    "    matplotlib==3.5.0\n",
    "    numba==0.54.1\n",
    "    numpy==1.20.0\n",
    "    pandas==1.3.4\n",
    "    Pillow==8.4.0\n",
    "    scikit-learn==1.0.1\n",
    "    Shapely==1.8.0\n",
    "    tensorboard==2.7.0\n",
    "    torch==1.10.0+cu102\n",
    "    torchvision==0.11.1+cu102\n",
    "    tqdm==4.62.3\n",
    "    + OpenCV 4.5.4 compilled with cuda and contribs or OpenCV python + contribs if used on cpu."
   ]
  },
  {
   "cell_type": "markdown",
   "id": "ddbdd49d",
   "metadata": {},
   "source": [
    "# Data Downloading from Cytomine\n",
    "\n",
    "In the following code, we are downloading the original dataset from the cytomine plateforme and we store it in the targeted data path. "
   ]
  },
  {
   "cell_type": "code",
   "execution_count": 1,
   "id": "8990ebd1",
   "metadata": {},
   "outputs": [],
   "source": [
    "from CytomineDownloader import download_images, download_annotations, prepare_data_folders\n",
    "import torch\n",
    "import numpy as np\n",
    "import cv2\n",
    "import os\n",
    "import time\n",
    "import matplotlib.pyplot as plt\n",
    "import pandas as pd\n",
    "from tqdm import tqdm\n",
    "from ReadingBuffer import ReadingBuffer\n",
    "from MOG_Filter import MOG_filter\n",
    "from DropletDetector import DropletDetector\n",
    "from UNetBuffer import UNetBuffer\n",
    "from UNetThread import UNetThread\n",
    "from utils import convert_annot\n",
    "from utils import convert_pred\n",
    "from utils import get_result_idx\n",
    "from utils import gound_truth_compare\n",
    "from utils import intersectionOverUnion\n",
    "from UNet_DatasetBuilder import create_UNet_dataset\n",
    "\n",
    "# Note: Replace XXX by yours keys\n",
    "public_key = 'XXX'\n",
    "private_key = 'XXX'\n",
    "\n",
    "DATA_PATH = 'Original_Dataset'\n",
    "UNET_DATA_PATH = 'UNet_Dataset'\n",
    "UNET_PATH = 'Model'\n",
    "UNET_NAME = 'UNet_A'\n",
    "OUTPUT_PATH = 'Output_Results'\n",
    "DEVICE = 'cuda' if torch.cuda.is_available() else 'cpu'\n",
    "BUFFER_SIZE = 500\n",
    "# Prepare data folders\n",
    "prepare_data_folders(DATA_PATH)\n",
    "\n",
    "# Folder preparation if first execution:\n",
    "if not os.path.exists(DATA_PATH):\n",
    "    os.mkdir(DAT_PATH)\n",
    "if not os.path.exists(UNET_PATH):\n",
    "    os.mkdir(UNET_PATH)\n",
    "if not os.path.exists(OUTPUT_PATH):\n",
    "    os.mkdir(OUTPUT_PATH)\n",
    "if not os.path.exists('Figs'):\n",
    "    os.mkdir('Figs')\n"
   ]
  },
  {
   "cell_type": "code",
   "execution_count": 4,
   "id": "0db4be85",
   "metadata": {},
   "outputs": [
    {
     "name": "stdout",
     "output_type": "stream",
     "text": [
      "### GROUP: CV2021_GROUP16 ###\n",
      "### GROUP: CV2021_GROUP20 ###\n",
      "### GROUP: CV2021_GROUP17 ###\n",
      "### GROUP: CV2021_GROUP19 ###\n",
      "### GROUP: CV2021_GROUP14 ###\n",
      "### GROUP: CV2021_GROUP18 ###\n",
      "### GROUP: CV2021_GROUP15 ###\n",
      "### GROUP: CV2021_GROUP09 ###\n",
      "### GROUP: CV2021_GROUP07 ###\n",
      "### GROUP: CV2021_GROUP04 ###\n",
      "### GROUP: CV2021_GROUP05 ###\n",
      "### GROUP: CV2021_GROUP11 ###\n",
      "### GROUP: CV2021_GROUP02 ###\n",
      "### GROUP: CV2021_GROUP06 ###\n",
      "### GROUP: CV2021_GROUP12 ###\n",
      "### GROUP: CV2021_GROUP01 ###\n",
      "### GROUP: CV2021_GROUP03 ###\n",
      "### GROUP: CV2021_GROUP08 ###\n",
      "### GROUP: CV2021_GROUP13 ###\n",
      "### GROUP: CV2021_GROUP10 ###\n"
     ]
    }
   ],
   "source": [
    "# Download annotations\n",
    "download_annotations(public_key, private_key, DATA_PATH)"
   ]
  },
  {
   "cell_type": "code",
   "execution_count": 2,
   "id": "37815f5e",
   "metadata": {},
   "outputs": [
    {
     "name": "stdout",
     "output_type": "stream",
     "text": [
      "[2021-12-07 13:54:41,892][INFO] [GET] [currentuser] CURRENT USER - 9873550 : s103816 | 200 OK\n",
      "[2021-12-07 13:54:41,995][INFO] [GET] [project collection] 20 objects | 200 OK\n",
      "[2021-12-07 13:54:42,095][INFO] [GET] [imageinstance collection] 1 objects | 200 OK\n",
      "[2021-12-07 13:54:55,756][INFO] File downloaded successfully from https://learn.cytomine.be/api/imageinstance/11222407/download with parameters {}\n",
      "[2021-12-07 13:54:56,321][INFO] [GET] [imageinstance collection] 1 objects | 200 OK\n",
      "[2021-12-07 13:55:09,441][INFO] File downloaded successfully from https://learn.cytomine.be/api/imageinstance/11227490/download with parameters {}\n",
      "[2021-12-07 13:55:09,935][INFO] [GET] [imageinstance collection] 1 objects | 200 OK\n",
      "[2021-12-07 13:55:22,787][INFO] File downloaded successfully from https://learn.cytomine.be/api/imageinstance/11223675/download with parameters {}\n",
      "[2021-12-07 13:55:22,821][INFO] [GET] [imageinstance collection] 1 objects | 200 OK\n",
      "[2021-12-07 13:55:35,775][INFO] File downloaded successfully from https://learn.cytomine.be/api/imageinstance/11226216/download with parameters {}\n",
      "[2021-12-07 13:55:35,943][INFO] [GET] [imageinstance collection] 1 objects | 200 OK\n",
      "[2021-12-07 13:55:47,073][INFO] File downloaded successfully from https://learn.cytomine.be/api/imageinstance/11220054/download with parameters {}\n",
      "[2021-12-07 13:55:47,681][INFO] [GET] [imageinstance collection] 1 objects | 200 OK\n",
      "[2021-12-07 13:56:01,262][INFO] File downloaded successfully from https://learn.cytomine.be/api/imageinstance/11224944/download with parameters {}\n",
      "[2021-12-07 13:56:01,670][INFO] [GET] [imageinstance collection] 1 objects | 200 OK\n",
      "[2021-12-07 13:56:15,187][INFO] File downloaded successfully from https://learn.cytomine.be/api/imageinstance/11221131/download with parameters {}\n",
      "[2021-12-07 13:56:15,283][INFO] [GET] [imageinstance collection] 1 objects | 200 OK\n",
      "[2021-12-07 13:56:29,362][INFO] File downloaded successfully from https://learn.cytomine.be/api/imageinstance/11213817/download with parameters {}\n",
      "[2021-12-07 13:56:29,401][INFO] [GET] [imageinstance collection] 1 objects | 200 OK\n",
      "[2021-12-07 13:56:43,551][INFO] File downloaded successfully from https://learn.cytomine.be/api/imageinstance/11211271/download with parameters {}\n",
      "[2021-12-07 13:56:43,586][INFO] [GET] [imageinstance collection] 1 objects | 200 OK\n",
      "[2021-12-07 13:56:57,829][INFO] File downloaded successfully from https://learn.cytomine.be/api/imageinstance/11207453/download with parameters {}\n",
      "[2021-12-07 13:56:57,870][INFO] [GET] [imageinstance collection] 1 objects | 200 OK\n",
      "[2021-12-07 13:57:11,600][INFO] File downloaded successfully from https://learn.cytomine.be/api/imageinstance/11208725/download with parameters {}\n",
      "[2021-12-07 13:57:11,634][INFO] [GET] [imageinstance collection] 1 objects | 200 OK\n",
      "[2021-12-07 13:57:26,849][INFO] File downloaded successfully from https://learn.cytomine.be/api/imageinstance/11216363/download with parameters {}\n",
      "[2021-12-07 13:57:26,936][INFO] [GET] [imageinstance collection] 1 objects | 200 OK\n",
      "[2021-12-07 13:57:40,400][INFO] File downloaded successfully from https://learn.cytomine.be/api/imageinstance/10063394/download with parameters {}\n",
      "[2021-12-07 13:57:40,986][INFO] [GET] [imageinstance collection] 1 objects | 200 OK\n",
      "[2021-12-07 13:57:54,321][INFO] File downloaded successfully from https://learn.cytomine.be/api/imageinstance/11209999/download with parameters {}\n",
      "[2021-12-07 13:57:54,365][INFO] [GET] [imageinstance collection] 1 objects | 200 OK\n",
      "[2021-12-07 13:58:06,456][INFO] File downloaded successfully from https://learn.cytomine.be/api/imageinstance/11217636/download with parameters {}\n",
      "[2021-12-07 13:58:06,507][INFO] [GET] [imageinstance collection] 1 objects | 200 OK\n",
      "[2021-12-07 13:58:19,764][INFO] File downloaded successfully from https://learn.cytomine.be/api/imageinstance/10064665/download with parameters {}\n",
      "[2021-12-07 13:58:19,793][INFO] [GET] [imageinstance collection] 1 objects | 200 OK\n",
      "[2021-12-07 13:58:33,225][INFO] File downloaded successfully from https://learn.cytomine.be/api/imageinstance/11206177/download with parameters {}\n",
      "[2021-12-07 13:58:33,733][INFO] [GET] [imageinstance collection] 1 objects | 200 OK\n",
      "[2021-12-07 13:58:47,134][INFO] File downloaded successfully from https://learn.cytomine.be/api/imageinstance/11212544/download with parameters {}\n",
      "[2021-12-07 13:58:47,157][INFO] [GET] [imageinstance collection] 1 objects | 200 OK\n",
      "[2021-12-07 13:59:00,492][INFO] File downloaded successfully from https://learn.cytomine.be/api/imageinstance/11218785/download with parameters {}\n",
      "[2021-12-07 13:59:00,518][INFO] [GET] [imageinstance collection] 1 objects | 200 OK\n",
      "[2021-12-07 13:59:13,906][INFO] File downloaded successfully from https://learn.cytomine.be/api/imageinstance/11215090/download with parameters {}\n"
     ]
    }
   ],
   "source": [
    "# Dowload videos\n",
    "download_images(public_key, private_key, DATA_PATH)"
   ]
  },
  {
   "cell_type": "markdown",
   "id": "bb19aaf1",
   "metadata": {},
   "source": [
    "# Statistical Analysis of the data\n",
    "\n",
    "In this section, we are performing some simple analysis of the annotations in order to have some important knowledges to determines the different thresholds used in our predicting algorithm."
   ]
  },
  {
   "cell_type": "code",
   "execution_count": 2,
   "id": "07caf087",
   "metadata": {},
   "outputs": [
    {
     "name": "stderr",
     "output_type": "stream",
     "text": [
      "100%|██████████████████████████████████████████████████████████████████████████████████| 20/20 [00:18<00:00,  1.07it/s]\n"
     ]
    },
    {
     "name": "stdout",
     "output_type": "stream",
     "text": [
      "# ================================================================= #\n",
      "#                Statistical analysis of the dataset                #\n",
      "# ================================================================= #\n",
      " \n",
      "Total number of frames: 24918\n",
      "Total number of droplets tracker: 2936\n"
     ]
    },
    {
     "data": {
      "image/png": "[encoded data removed]",
      "text/plain": [
       "<Figure size 432x288 with 1 Axes>"
      ]
     },
     "metadata": {
      "needs_background": "light"
     },
     "output_type": "display_data"
    },
    {
     "data": {
      "image/png": "[encoded data removed]",
      "text/plain": [
       "<Figure size 432x288 with 1 Axes>"
      ]
     },
     "metadata": {
      "needs_background": "light"
     },
     "output_type": "display_data"
    },
    {
     "data": {
      "image/png": "[encoded data removed]",
      "text/plain": [
       "<Figure size 432x288 with 1 Axes>"
      ]
     },
     "metadata": {
      "needs_background": "light"
     },
     "output_type": "display_data"
    },
    {
     "name": "stdout",
     "output_type": "stream",
     "text": [
      "Nb droplets with 0 cell: 2287\n",
      "Nb droplets with 1 cell: 533\n",
      "Nb droplets with 2 cell: 95\n",
      "Nb droplets with 3 cell: 12\n",
      "Nb droplets with 4 cell: 7\n",
      "Nb droplets with 5 cell: 1\n",
      "Nb droplets with 6 cell: 1\n",
      "Nb droplets with 7 cell: 0\n",
      "Nb droplets with 8 cell: 0\n",
      "Nb droplets with 9 cell: 0\n"
     ]
    }
   ],
   "source": [
    "from DataStatistics import data_statistics\n",
    "\n",
    "data_statistics(DATA_PATH)"
   ]
  },
  {
   "cell_type": "markdown",
   "id": "f2437a83",
   "metadata": {},
   "source": [
    "# Dataset Creation for the UNet Training\n",
    "\n",
    "The UNet is responsible of the cell counting in the droplets.\n",
    "To create this dataset, we are using provided annotations to \n",
    "create a database of droplets images with cells coordinates in\n",
    "it."
   ]
  },
  {
   "cell_type": "code",
   "execution_count": 2,
   "id": "84242ddb",
   "metadata": {},
   "outputs": [
    {
     "name": "stderr",
     "output_type": "stream",
     "text": [
      "100%|██████████| 20/20 [00:43<00:00,  2.15s/it]\n"
     ]
    }
   ],
   "source": [
    "# Get the list of all video files:\n",
    "file_lst = os.listdir('{}/images'.format(DATA_PATH))\n",
    "start_idx = 0\n",
    "for i in tqdm(range(0, len(file_lst))):\n",
    "    # Get paths\n",
    "    gp_str = file_lst[i][-2:]\n",
    "    gp = int(gp_str)\n",
    "    vid_path = '{}/images/{}/group{}.mp4'.format(DATA_PATH, file_lst[i], gp)\n",
    "    annot_path = '{}/annotations/{}/{}.csv'.format(DATA_PATH, file_lst[i], file_lst[i])\n",
    "\n",
    "    # Extract droplets images\n",
    "    start_idx = create_UNet_dataset(vid_path, annot_path, start_idx, UNET_DATA_PATH)"
   ]
  },
  {
   "cell_type": "markdown",
   "id": "d04f74a2",
   "metadata": {},
   "source": [
    "# UNet Training"
   ]
  },
  {
   "cell_type": "code",
   "execution_count": 2,
   "id": "480ca0f7",
   "metadata": {},
   "outputs": [
    {
     "name": "stdout",
     "output_type": "stream",
     "text": [
      "Training at epoch 1 / 10\n",
      "\n"
     ]
    },
    {
     "name": "stderr",
     "output_type": "stream",
     "text": [
      "100%|██████████| 933/933 [05:17<00:00,  2.94it/s, loss=0.0143] \n"
     ]
    },
    {
     "name": "stdout",
     "output_type": "stream",
     "text": [
      "Training at epoch 2 / 10\n",
      "\n"
     ]
    },
    {
     "name": "stderr",
     "output_type": "stream",
     "text": [
      "100%|██████████| 933/933 [05:09<00:00,  3.01it/s, loss=0.00372]\n"
     ]
    },
    {
     "name": "stdout",
     "output_type": "stream",
     "text": [
      "Training at epoch 3 / 10\n",
      "\n"
     ]
    },
    {
     "name": "stderr",
     "output_type": "stream",
     "text": [
      "100%|██████████| 933/933 [05:08<00:00,  3.02it/s, loss=0.0103] \n"
     ]
    },
    {
     "name": "stdout",
     "output_type": "stream",
     "text": [
      "Training at epoch 4 / 10\n",
      "\n"
     ]
    },
    {
     "name": "stderr",
     "output_type": "stream",
     "text": [
      "100%|██████████| 933/933 [05:07<00:00,  3.04it/s, loss=0.0031] \n"
     ]
    },
    {
     "name": "stdout",
     "output_type": "stream",
     "text": [
      "Training at epoch 5 / 10\n",
      "\n"
     ]
    },
    {
     "name": "stderr",
     "output_type": "stream",
     "text": [
      "100%|██████████| 933/933 [05:06<00:00,  3.04it/s, loss=0.00529]\n"
     ]
    },
    {
     "name": "stdout",
     "output_type": "stream",
     "text": [
      "Training at epoch 6 / 10\n",
      "\n"
     ]
    },
    {
     "name": "stderr",
     "output_type": "stream",
     "text": [
      "100%|██████████| 933/933 [05:07<00:00,  3.03it/s, loss=0.00378]\n"
     ]
    },
    {
     "name": "stdout",
     "output_type": "stream",
     "text": [
      "Training at epoch 7 / 10\n",
      "\n"
     ]
    },
    {
     "name": "stderr",
     "output_type": "stream",
     "text": [
      "100%|██████████| 933/933 [05:07<00:00,  3.04it/s, loss=0.00861] \n"
     ]
    },
    {
     "name": "stdout",
     "output_type": "stream",
     "text": [
      "Training at epoch 8 / 10\n",
      "\n"
     ]
    },
    {
     "name": "stderr",
     "output_type": "stream",
     "text": [
      "100%|██████████| 933/933 [05:06<00:00,  3.04it/s, loss=0.00645]\n"
     ]
    },
    {
     "name": "stdout",
     "output_type": "stream",
     "text": [
      "Training at epoch 9 / 10\n",
      "\n"
     ]
    },
    {
     "name": "stderr",
     "output_type": "stream",
     "text": [
      "100%|██████████| 933/933 [05:07<00:00,  3.04it/s, loss=0.00878] \n"
     ]
    },
    {
     "name": "stdout",
     "output_type": "stream",
     "text": [
      "Training at epoch 10 / 10\n",
      "\n"
     ]
    },
    {
     "name": "stderr",
     "output_type": "stream",
     "text": [
      "100%|██████████| 933/933 [05:07<00:00,  3.04it/s, loss=0.00736]\n"
     ]
    }
   ],
   "source": [
    "from UNet_Trainer import train\n",
    "\n",
    "train(data_path=UNET_DATA_PATH,\n",
    "      model_path=UNET_PATH,\n",
    "      name=UNET_NAME,\n",
    "      batch_size=15,\n",
    "      learning_rate=1e-5,\n",
    "      weight_decay=0,\n",
    "      num_workers=4,\n",
    "      target_epoch=10\n",
    "     )"
   ]
  },
  {
   "cell_type": "markdown",
   "id": "69e0015a",
   "metadata": {},
   "source": [
    "### Plot training curves"
   ]
  },
  {
   "cell_type": "code",
   "execution_count": 3,
   "id": "5330dc74",
   "metadata": {},
   "outputs": [
    {
     "data": {
      "image/png": "[encoded data removed]",
      "text/plain": [
       "<Figure size 432x288 with 1 Axes>"
      ]
     },
     "metadata": {
      "needs_background": "light"
     },
     "output_type": "display_data"
    }
   ],
   "source": [
    "from UNet_Trainer import plot_UNet_logs\n",
    "\n",
    "plot_UNet_logs(model_path=UNET_PATH,\n",
    "               model_name=UNET_NAME)"
   ]
  },
  {
   "cell_type": "markdown",
   "id": "daa33424",
   "metadata": {},
   "source": [
    "# Video Analysis\n",
    "\n",
    "In this video, we will makes the final predictions for all the videos of our provided dataset. In order to analyze the execution of our muti-thread algorithm and to detect potentials bottle-necks in it, the load of our buffers is evaluate for each time steps of the execution."
   ]
  },
  {
   "cell_type": "markdown",
   "id": "de4860e2",
   "metadata": {},
   "source": [
    "### Get video of interest path's"
   ]
  },
  {
   "cell_type": "code",
   "execution_count": 2,
   "id": "b94e7ffa",
   "metadata": {},
   "outputs": [
    {
     "name": "stdout",
     "output_type": "stream",
     "text": [
      "* Target videos: \n",
      "*   - Original_Dataset/images/CV2021_GROUP01/group1.mp4\n",
      "*   - Original_Dataset/images/CV2021_GROUP02/group2.mp4\n",
      "*   - Original_Dataset/images/CV2021_GROUP03/group3.mp4\n",
      "*   - Original_Dataset/images/CV2021_GROUP04/group4.mp4\n",
      "*   - Original_Dataset/images/CV2021_GROUP05/group5.mp4\n",
      "*   - Original_Dataset/images/CV2021_GROUP06/group6.mp4\n",
      "*   - Original_Dataset/images/CV2021_GROUP07/group7.mp4\n",
      "*   - Original_Dataset/images/CV2021_GROUP08/group8.mp4\n",
      "*   - Original_Dataset/images/CV2021_GROUP09/group9.mp4\n",
      "*   - Original_Dataset/images/CV2021_GROUP10/group10.mp4\n",
      "*   - Original_Dataset/images/CV2021_GROUP11/group11.mp4\n",
      "*   - Original_Dataset/images/CV2021_GROUP12/group12.mp4\n",
      "*   - Original_Dataset/images/CV2021_GROUP13/group13.mp4\n",
      "*   - Original_Dataset/images/CV2021_GROUP14/group14.mp4\n",
      "*   - Original_Dataset/images/CV2021_GROUP15/group15.mp4\n",
      "*   - Original_Dataset/images/CV2021_GROUP16/group16.mp4\n",
      "*   - Original_Dataset/images/CV2021_GROUP17/group17.mp4\n",
      "*   - Original_Dataset/images/CV2021_GROUP18/group18.mp4\n",
      "*   - Original_Dataset/images/CV2021_GROUP19/group19.mp4\n",
      "*   - Original_Dataset/images/CV2021_GROUP20/group20.mp4\n"
     ]
    }
   ],
   "source": [
    "# Get the list of all input video\n",
    "video_list = os.listdir('{}/annotations'.format(DATA_PATH))\n",
    "# Get all path to target videos\n",
    "target_vid = []\n",
    "print('* Target videos: ')\n",
    "for itm in video_list:\n",
    "    # Get groupe number\n",
    "    gp_str = itm[-2:]\n",
    "    gp = int(gp_str)\n",
    "    tmp = '{}/images/{}/group{}.mp4'.format(DATA_PATH, itm, gp)\n",
    "    target_vid.append(tmp)\n",
    "    print('*   - {}'.format(tmp))"
   ]
  },
  {
   "cell_type": "markdown",
   "id": "fd49de11",
   "metadata": {},
   "source": [
    "### Load all components"
   ]
  },
  {
   "cell_type": "code",
   "execution_count": 3,
   "id": "c5d8e139",
   "metadata": {},
   "outputs": [
    {
     "name": "stdout",
     "output_type": "stream",
     "text": [
      "Unet sucessfully loaded\n"
     ]
    }
   ],
   "source": [
    "# Build the reading buffer\n",
    "buff_read = ReadingBuffer(path_list=target_vid,\n",
    "                          buff_size=BUFFER_SIZE,\n",
    "                          device=DEVICE)\n",
    "# The MOG filter thread\n",
    "buff_mog = MOG_filter(input_buffer=buff_read,\n",
    "                      buff_size=BUFFER_SIZE,\n",
    "                      device=DEVICE)\n",
    "# The Droplet detector/counter\n",
    "buff_droplet = DropletDetector(input_buffer=buff_mog,\n",
    "                               buff_size=BUFFER_SIZE,\n",
    "                               device=DEVICE,\n",
    "                               debug=False)\n",
    "\n",
    "# A buffer for the UNet: do the tensorisation step\n",
    "buff_UNet = UNetBuffer(input_buffer=buff_droplet,\n",
    "                       buff_size=BUFFER_SIZE,\n",
    "                       device=DEVICE,\n",
    "                       display=False)\n",
    "\n",
    "# The UNet thread to count cells\n",
    "UNet_thread = UNetThread(input_buffer=buff_UNet,\n",
    "                         model_path=UNET_PATH,\n",
    "                         model_name=UNET_NAME,\n",
    "                         device=DEVICE,\n",
    "                         batch_size=10,\n",
    "                         debug=False)"
   ]
  },
  {
   "cell_type": "markdown",
   "id": "a6884345",
   "metadata": {},
   "source": [
    "### Prediction Step\n",
    "In this code, the main loop track the filling of each buffers during the execution and stope when the last buffer end his work."
   ]
  },
  {
   "cell_type": "code",
   "execution_count": 4,
   "id": "adfe4903",
   "metadata": {},
   "outputs": [
    {
     "name": "stdout",
     "output_type": "stream",
     "text": [
      "* --------------------------------------------------------- *\n",
      "*                    Results:                  \n",
      "*   - Counted droplets: 3353\n",
      "*   - Counted cells: 740\n",
      "*   - Computing Time: 49.1834774017334\n",
      "*   - Readed frames: 24952\n",
      "*   - Frames per seconds: 507.3248439956912\n",
      "* --------------------------------------------------------- *\n"
     ]
    },
    {
     "data": {
      "image/png": "[encoded data removed]",
      "text/plain": [
       "<Figure size 432x288 with 1 Axes>"
      ]
     },
     "metadata": {
      "needs_background": "light"
     },
     "output_type": "display_data"
    }
   ],
   "source": [
    "# Filling track\n",
    "fill_reader = []\n",
    "fill_mog = []\n",
    "fill_drp_counter = []\n",
    "fill_UNet_buff = []\n",
    "time_array = []\n",
    "\n",
    "# Starting threads\n",
    "start_time = time.time()\n",
    "buff_read.start()\n",
    "buff_mog.start()\n",
    "buff_droplet.start()\n",
    "buff_UNet.start()\n",
    "UNet_thread.start()\n",
    "\n",
    "while not UNet_thread.end:\n",
    "    \n",
    "    fill_reader.append(buff_read.buffer.qsize())\n",
    "    fill_mog.append(buff_mog.buffer.qsize())\n",
    "    fill_drp_counter.append(buff_droplet.buffer.qsize())\n",
    "    fill_UNet_buff.append(buff_UNet.buffer.qsize())\n",
    "    time_array.append(time.time())\n",
    "    time.sleep(0.1)\n",
    "    \n",
    "end_time = time.time()\n",
    "\n",
    "print('* --------------------------------------------------------- *')\n",
    "print('*                    Results:                  ')\n",
    "print('*   - Counted droplets: {}'.format(buff_droplet.drop_counter))\n",
    "print('*   - Counted cells: {}'.format(UNet_thread.total_cell))\n",
    "print('*   - Computing Time: {}'.format(end_time - start_time))\n",
    "total_frame_idx = buff_read.frame_idx\n",
    "print('*   - Readed frames: {}'.format(total_frame_idx))\n",
    "print('*   - Frames per seconds: {}'.format(total_frame_idx / (end_time - start_time)))\n",
    "print('* --------------------------------------------------------- *')\n",
    "\n",
    "# Plot buffers load tracking\n",
    "x_axis = np.arange(len(fill_reader))\n",
    "plt.plot(time_array, fill_reader, label='Reader Buffer', color='Green', linewidth=0.5)\n",
    "plt.plot(time_array, fill_mog, label='MOG buffer', color='Blue', linewidth=0.5)\n",
    "plt.plot(time_array, fill_drp_counter, label='Droplet counter buffer', color='Red', linewidth=0.5)\n",
    "plt.plot(time_array, fill_UNet_buff, label='UNet buffer', color='Purple', linewidth=0.5)\n",
    "plt.legend()\n",
    "plt.yscale('log')\n",
    "plt.title('Buffer load during execution')\n",
    "plt.xlabel('Time (ms)')\n",
    "plt.show()\n",
    "plt.close()\n"
   ]
  },
  {
   "cell_type": "markdown",
   "id": "df8a99b7",
   "metadata": {},
   "source": [
    "# Model Evaluation\n",
    "In this part, we will compare predictions of our model to the ground truth."
   ]
  },
  {
   "cell_type": "code",
   "execution_count": 5,
   "id": "ccdda14d",
   "metadata": {},
   "outputs": [],
   "source": [
    "# Do this for all files in the data\n",
    "input_files = os.listdir('{}/annotations'.format(DATA_PATH))"
   ]
  },
  {
   "cell_type": "markdown",
   "id": "8d8bdfba",
   "metadata": {},
   "source": [
    "### Prediction loop:\n",
    "In the following part, we are making predictions for all wanted files and we sotre it in the folder /Output_Results"
   ]
  },
  {
   "cell_type": "code",
   "execution_count": 6,
   "id": "f52e4310",
   "metadata": {},
   "outputs": [
    {
     "name": "stdout",
     "output_type": "stream",
     "text": [
      "Unet sucessfully loaded\n",
      "* -------------------------------------------- *\n",
      "* End of predictions for CV2021_GROUP01\n",
      "* Total readed frames: 1252\n",
      "* Detected droplets: 114\n",
      "* Detected cells: 36\n",
      "* Computing time: 2.486278533935547\n",
      "* Frames per second: 503.56385373210816\n",
      "* Histogram of the number of cell per droplet:\n",
      "*   - Droplets with 0 cells: 84.0\n",
      "*   - Droplets with 1 cells: 25.0\n",
      "*   - Droplets with 2 cells: 4.0\n",
      "*   - Droplets with 3 cells: 1.0\n",
      "*   - Droplets with 4 cells: 0.0\n",
      "*   - Droplets with 5 cells: 0.0\n",
      "*   - Droplets with 6 cells: 0.0\n",
      "*   - Droplets with 7 cells: 0.0\n",
      "*   - Droplets with 8 cells: 0.0\n",
      "*   - Droplets with 9 cells: 0.0\n",
      "Unet sucessfully loaded\n",
      "* -------------------------------------------- *\n",
      "* End of predictions for CV2021_GROUP02\n",
      "* Total readed frames: 1262\n",
      "* Detected droplets: 141\n",
      "* Detected cells: 40\n",
      "* Computing time: 2.363532543182373\n",
      "* Frames per second: 533.9465300108722\n",
      "* Histogram of the number of cell per droplet:\n",
      "*   - Droplets with 0 cells: 105.0\n",
      "*   - Droplets with 1 cells: 32.0\n",
      "*   - Droplets with 2 cells: 4.0\n",
      "*   - Droplets with 3 cells: 0.0\n",
      "*   - Droplets with 4 cells: 0.0\n",
      "*   - Droplets with 5 cells: 0.0\n",
      "*   - Droplets with 6 cells: 0.0\n",
      "*   - Droplets with 7 cells: 0.0\n",
      "*   - Droplets with 8 cells: 0.0\n",
      "*   - Droplets with 9 cells: 0.0\n",
      "Unet sucessfully loaded\n",
      "* -------------------------------------------- *\n",
      "* End of predictions for CV2021_GROUP03\n",
      "* Total readed frames: 1267\n",
      "* Detected droplets: 181\n",
      "* Detected cells: 37\n",
      "* Computing time: 2.591745376586914\n",
      "* Frames per second: 488.8597512107923\n",
      "* Histogram of the number of cell per droplet:\n",
      "*   - Droplets with 0 cells: 147.0\n",
      "*   - Droplets with 1 cells: 31.0\n",
      "*   - Droplets with 2 cells: 3.0\n",
      "*   - Droplets with 3 cells: 0.0\n",
      "*   - Droplets with 4 cells: 0.0\n",
      "*   - Droplets with 5 cells: 0.0\n",
      "*   - Droplets with 6 cells: 0.0\n",
      "*   - Droplets with 7 cells: 0.0\n",
      "*   - Droplets with 8 cells: 0.0\n",
      "*   - Droplets with 9 cells: 0.0\n",
      "Unet sucessfully loaded\n",
      "* -------------------------------------------- *\n",
      "* End of predictions for CV2021_GROUP04\n",
      "* Total readed frames: 1263\n",
      "* Detected droplets: 180\n",
      "* Detected cells: 36\n",
      "* Computing time: 2.585843324661255\n",
      "* Frames per second: 488.4286638539684\n",
      "* Histogram of the number of cell per droplet:\n",
      "*   - Droplets with 0 cells: 147.0\n",
      "*   - Droplets with 1 cells: 30.0\n",
      "*   - Droplets with 2 cells: 3.0\n",
      "*   - Droplets with 3 cells: 0.0\n",
      "*   - Droplets with 4 cells: 0.0\n",
      "*   - Droplets with 5 cells: 0.0\n",
      "*   - Droplets with 6 cells: 0.0\n",
      "*   - Droplets with 7 cells: 0.0\n",
      "*   - Droplets with 8 cells: 0.0\n",
      "*   - Droplets with 9 cells: 0.0\n",
      "Unet sucessfully loaded\n",
      "* -------------------------------------------- *\n",
      "* End of predictions for CV2021_GROUP05\n",
      "* Total readed frames: 1267\n",
      "* Detected droplets: 178\n",
      "* Detected cells: 43\n",
      "* Computing time: 2.6021347045898438\n",
      "* Frames per second: 486.9079213175124\n",
      "* Histogram of the number of cell per droplet:\n",
      "*   - Droplets with 0 cells: 142.0\n",
      "*   - Droplets with 1 cells: 30.0\n",
      "*   - Droplets with 2 cells: 5.0\n",
      "*   - Droplets with 3 cells: 1.0\n",
      "*   - Droplets with 4 cells: 0.0\n",
      "*   - Droplets with 5 cells: 0.0\n",
      "*   - Droplets with 6 cells: 0.0\n",
      "*   - Droplets with 7 cells: 0.0\n",
      "*   - Droplets with 8 cells: 0.0\n",
      "*   - Droplets with 9 cells: 0.0\n",
      "Unet sucessfully loaded\n",
      "* -------------------------------------------- *\n",
      "* End of predictions for CV2021_GROUP06\n",
      "* Total readed frames: 1263\n",
      "* Detected droplets: 178\n",
      "* Detected cells: 39\n",
      "* Computing time: 2.599423885345459\n",
      "* Frames per second: 485.8768926146685\n",
      "* Histogram of the number of cell per droplet:\n",
      "*   - Droplets with 0 cells: 145.0\n",
      "*   - Droplets with 1 cells: 27.0\n",
      "*   - Droplets with 2 cells: 6.0\n",
      "*   - Droplets with 3 cells: 0.0\n",
      "*   - Droplets with 4 cells: 0.0\n",
      "*   - Droplets with 5 cells: 0.0\n",
      "*   - Droplets with 6 cells: 0.0\n",
      "*   - Droplets with 7 cells: 0.0\n",
      "*   - Droplets with 8 cells: 0.0\n",
      "*   - Droplets with 9 cells: 0.0\n",
      "Unet sucessfully loaded\n",
      "* -------------------------------------------- *\n",
      "* End of predictions for CV2021_GROUP07\n",
      "* Total readed frames: 1264\n",
      "* Detected droplets: 134\n",
      "* Detected cells: 30\n",
      "* Computing time: 2.361250400543213\n",
      "* Frames per second: 535.3095968598726\n",
      "* Histogram of the number of cell per droplet:\n",
      "*   - Droplets with 0 cells: 109.0\n",
      "*   - Droplets with 1 cells: 21.0\n",
      "*   - Droplets with 2 cells: 3.0\n",
      "*   - Droplets with 3 cells: 1.0\n",
      "*   - Droplets with 4 cells: 0.0\n",
      "*   - Droplets with 5 cells: 0.0\n",
      "*   - Droplets with 6 cells: 0.0\n",
      "*   - Droplets with 7 cells: 0.0\n",
      "*   - Droplets with 8 cells: 0.0\n",
      "*   - Droplets with 9 cells: 0.0\n",
      "Unet sucessfully loaded\n",
      "* -------------------------------------------- *\n",
      "* End of predictions for CV2021_GROUP08\n",
      "* Total readed frames: 1266\n",
      "* Detected droplets: 135\n",
      "* Detected cells: 26\n",
      "* Computing time: 2.3746066093444824\n",
      "* Frames per second: 533.1409400690093\n",
      "* Histogram of the number of cell per droplet:\n",
      "*   - Droplets with 0 cells: 111.0\n",
      "*   - Droplets with 1 cells: 22.0\n",
      "*   - Droplets with 2 cells: 2.0\n",
      "*   - Droplets with 3 cells: 0.0\n",
      "*   - Droplets with 4 cells: 0.0\n",
      "*   - Droplets with 5 cells: 0.0\n",
      "*   - Droplets with 6 cells: 0.0\n",
      "*   - Droplets with 7 cells: 0.0\n",
      "*   - Droplets with 8 cells: 0.0\n",
      "*   - Droplets with 9 cells: 0.0\n",
      "Unet sucessfully loaded\n",
      "* -------------------------------------------- *\n",
      "* End of predictions for CV2021_GROUP09\n",
      "* Total readed frames: 1264\n",
      "* Detected droplets: 126\n",
      "* Detected cells: 30\n",
      "* Computing time: 2.247370719909668\n",
      "* Frames per second: 562.4350218689358\n",
      "* Histogram of the number of cell per droplet:\n",
      "*   - Droplets with 0 cells: 101.0\n",
      "*   - Droplets with 1 cells: 21.0\n",
      "*   - Droplets with 2 cells: 3.0\n",
      "*   - Droplets with 3 cells: 1.0\n",
      "*   - Droplets with 4 cells: 0.0\n",
      "*   - Droplets with 5 cells: 0.0\n",
      "*   - Droplets with 6 cells: 0.0\n",
      "*   - Droplets with 7 cells: 0.0\n",
      "*   - Droplets with 8 cells: 0.0\n",
      "*   - Droplets with 9 cells: 0.0\n",
      "Unet sucessfully loaded\n",
      "* -------------------------------------------- *\n",
      "* End of predictions for CV2021_GROUP10\n",
      "* Total readed frames: 1266\n",
      "* Detected droplets: 122\n",
      "* Detected cells: 30\n",
      "* Computing time: 2.2625679969787598\n",
      "* Frames per second: 559.5411946471922\n",
      "* Histogram of the number of cell per droplet:\n",
      "*   - Droplets with 0 cells: 95.0\n",
      "*   - Droplets with 1 cells: 25.0\n",
      "*   - Droplets with 2 cells: 1.0\n",
      "*   - Droplets with 3 cells: 1.0\n",
      "*   - Droplets with 4 cells: 0.0\n",
      "*   - Droplets with 5 cells: 0.0\n",
      "*   - Droplets with 6 cells: 0.0\n",
      "*   - Droplets with 7 cells: 0.0\n",
      "*   - Droplets with 8 cells: 0.0\n",
      "*   - Droplets with 9 cells: 0.0\n",
      "Unet sucessfully loaded\n",
      "* -------------------------------------------- *\n",
      "* End of predictions for CV2021_GROUP11\n",
      "* Total readed frames: 1264\n",
      "* Detected droplets: 212\n",
      "* Detected cells: 60\n",
      "* Computing time: 2.7311716079711914\n",
      "* Frames per second: 462.8050453918357\n",
      "* Histogram of the number of cell per droplet:\n",
      "*   - Droplets with 0 cells: 159.0\n",
      "*   - Droplets with 1 cells: 47.0\n",
      "*   - Droplets with 2 cells: 5.0\n",
      "*   - Droplets with 3 cells: 1.0\n",
      "*   - Droplets with 4 cells: 0.0\n",
      "*   - Droplets with 5 cells: 0.0\n",
      "*   - Droplets with 6 cells: 0.0\n",
      "*   - Droplets with 7 cells: 0.0\n",
      "*   - Droplets with 8 cells: 0.0\n",
      "*   - Droplets with 9 cells: 0.0\n",
      "Unet sucessfully loaded\n",
      "* -------------------------------------------- *\n",
      "* End of predictions for CV2021_GROUP12\n",
      "* Total readed frames: 1142\n",
      "* Detected droplets: 188\n",
      "* Detected cells: 48\n",
      "* Computing time: 2.4811785221099854\n",
      "* Frames per second: 460.2651481235809\n",
      "* Histogram of the number of cell per droplet:\n",
      "*   - Droplets with 0 cells: 146.0\n",
      "*   - Droplets with 1 cells: 36.0\n",
      "*   - Droplets with 2 cells: 6.0\n",
      "*   - Droplets with 3 cells: 0.0\n",
      "*   - Droplets with 4 cells: 0.0\n",
      "*   - Droplets with 5 cells: 0.0\n",
      "*   - Droplets with 6 cells: 0.0\n",
      "*   - Droplets with 7 cells: 0.0\n",
      "*   - Droplets with 8 cells: 0.0\n",
      "*   - Droplets with 9 cells: 0.0\n",
      "Unet sucessfully loaded\n",
      "* -------------------------------------------- *\n",
      "* End of predictions for CV2021_GROUP13\n",
      "* Total readed frames: 1260\n",
      "* Detected droplets: 104\n",
      "* Detected cells: 25\n",
      "* Computing time: 2.137467622756958\n",
      "* Frames per second: 589.4826132499828\n",
      "* Histogram of the number of cell per droplet:\n",
      "*   - Droplets with 0 cells: 86.0\n",
      "*   - Droplets with 1 cells: 13.0\n",
      "*   - Droplets with 2 cells: 3.0\n",
      "*   - Droplets with 3 cells: 2.0\n",
      "*   - Droplets with 4 cells: 0.0\n",
      "*   - Droplets with 5 cells: 0.0\n",
      "*   - Droplets with 6 cells: 0.0\n",
      "*   - Droplets with 7 cells: 0.0\n",
      "*   - Droplets with 8 cells: 0.0\n",
      "*   - Droplets with 9 cells: 0.0\n",
      "Unet sucessfully loaded\n"
     ]
    },
    {
     "name": "stdout",
     "output_type": "stream",
     "text": [
      "* -------------------------------------------- *\n",
      "* End of predictions for CV2021_GROUP14\n",
      "* Total readed frames: 1070\n",
      "* Detected droplets: 81\n",
      "* Detected cells: 18\n",
      "* Computing time: 1.8280682563781738\n",
      "* Frames per second: 585.3173131072894\n",
      "* Histogram of the number of cell per droplet:\n",
      "*   - Droplets with 0 cells: 68.0\n",
      "*   - Droplets with 1 cells: 10.0\n",
      "*   - Droplets with 2 cells: 2.0\n",
      "*   - Droplets with 3 cells: 0.0\n",
      "*   - Droplets with 4 cells: 1.0\n",
      "*   - Droplets with 5 cells: 0.0\n",
      "*   - Droplets with 6 cells: 0.0\n",
      "*   - Droplets with 7 cells: 0.0\n",
      "*   - Droplets with 8 cells: 0.0\n",
      "*   - Droplets with 9 cells: 0.0\n",
      "Unet sucessfully loaded\n",
      "* -------------------------------------------- *\n",
      "* End of predictions for CV2021_GROUP15\n",
      "* Total readed frames: 1267\n",
      "* Detected droplets: 196\n",
      "* Detected cells: 35\n",
      "* Computing time: 2.6065261363983154\n",
      "* Frames per second: 486.0875869638254\n",
      "* Histogram of the number of cell per droplet:\n",
      "*   - Droplets with 0 cells: 164.0\n",
      "*   - Droplets with 1 cells: 29.0\n",
      "*   - Droplets with 2 cells: 3.0\n",
      "*   - Droplets with 3 cells: 0.0\n",
      "*   - Droplets with 4 cells: 0.0\n",
      "*   - Droplets with 5 cells: 0.0\n",
      "*   - Droplets with 6 cells: 0.0\n",
      "*   - Droplets with 7 cells: 0.0\n",
      "*   - Droplets with 8 cells: 0.0\n",
      "*   - Droplets with 9 cells: 0.0\n",
      "Unet sucessfully loaded\n",
      "* -------------------------------------------- *\n",
      "* End of predictions for CV2021_GROUP16\n",
      "* Total readed frames: 1261\n",
      "* Detected droplets: 198\n",
      "* Detected cells: 55\n",
      "* Computing time: 2.703199625015259\n",
      "* Frames per second: 466.48423162343477\n",
      "* Histogram of the number of cell per droplet:\n",
      "*   - Droplets with 0 cells: 152.0\n",
      "*   - Droplets with 1 cells: 38.0\n",
      "*   - Droplets with 2 cells: 7.0\n",
      "*   - Droplets with 3 cells: 1.0\n",
      "*   - Droplets with 4 cells: 0.0\n",
      "*   - Droplets with 5 cells: 0.0\n",
      "*   - Droplets with 6 cells: 0.0\n",
      "*   - Droplets with 7 cells: 0.0\n",
      "*   - Droplets with 8 cells: 0.0\n",
      "*   - Droplets with 9 cells: 0.0\n",
      "Unet sucessfully loaded\n",
      "* -------------------------------------------- *\n",
      "* End of predictions for CV2021_GROUP17\n",
      "* Total readed frames: 1260\n",
      "* Detected droplets: 188\n",
      "* Detected cells: 49\n",
      "* Computing time: 2.5893633365631104\n",
      "* Frames per second: 486.606102051484\n",
      "* Histogram of the number of cell per droplet:\n",
      "*   - Droplets with 0 cells: 146.0\n",
      "*   - Droplets with 1 cells: 36.0\n",
      "*   - Droplets with 2 cells: 5.0\n",
      "*   - Droplets with 3 cells: 1.0\n",
      "*   - Droplets with 4 cells: 0.0\n",
      "*   - Droplets with 5 cells: 0.0\n",
      "*   - Droplets with 6 cells: 0.0\n",
      "*   - Droplets with 7 cells: 0.0\n",
      "*   - Droplets with 8 cells: 0.0\n",
      "*   - Droplets with 9 cells: 0.0\n",
      "Unet sucessfully loaded\n",
      "* -------------------------------------------- *\n",
      "* End of predictions for CV2021_GROUP18\n",
      "* Total readed frames: 1265\n",
      "* Detected droplets: 188\n",
      "* Detected cells: 33\n",
      "* Computing time: 2.6017801761627197\n",
      "* Frames per second: 486.20556478591783\n",
      "* Histogram of the number of cell per droplet:\n",
      "*   - Droplets with 0 cells: 158.0\n",
      "*   - Droplets with 1 cells: 27.0\n",
      "*   - Droplets with 2 cells: 3.0\n",
      "*   - Droplets with 3 cells: 0.0\n",
      "*   - Droplets with 4 cells: 0.0\n",
      "*   - Droplets with 5 cells: 0.0\n",
      "*   - Droplets with 6 cells: 0.0\n",
      "*   - Droplets with 7 cells: 0.0\n",
      "*   - Droplets with 8 cells: 0.0\n",
      "*   - Droplets with 9 cells: 0.0\n",
      "Unet sucessfully loaded\n",
      "* -------------------------------------------- *\n",
      "* End of predictions for CV2021_GROUP19\n",
      "* Total readed frames: 1267\n",
      "* Detected droplets: 194\n",
      "* Detected cells: 35\n",
      "* Computing time: 2.6053102016448975\n",
      "* Frames per second: 486.3144508473742\n",
      "* Histogram of the number of cell per droplet:\n",
      "*   - Droplets with 0 cells: 161.0\n",
      "*   - Droplets with 1 cells: 31.0\n",
      "*   - Droplets with 2 cells: 2.0\n",
      "*   - Droplets with 3 cells: 0.0\n",
      "*   - Droplets with 4 cells: 0.0\n",
      "*   - Droplets with 5 cells: 0.0\n",
      "*   - Droplets with 6 cells: 0.0\n",
      "*   - Droplets with 7 cells: 0.0\n",
      "*   - Droplets with 8 cells: 0.0\n",
      "*   - Droplets with 9 cells: 0.0\n",
      "Unet sucessfully loaded\n",
      "* -------------------------------------------- *\n",
      "* End of predictions for CV2021_GROUP20\n",
      "* Total readed frames: 1262\n",
      "* Detected droplets: 191\n",
      "* Detected cells: 35\n",
      "* Computing time: 2.5979526042938232\n",
      "* Frames per second: 485.7671375198307\n",
      "* Histogram of the number of cell per droplet:\n",
      "*   - Droplets with 0 cells: 164.0\n",
      "*   - Droplets with 1 cells: 20.0\n",
      "*   - Droplets with 2 cells: 6.0\n",
      "*   - Droplets with 3 cells: 1.0\n",
      "*   - Droplets with 4 cells: 0.0\n",
      "*   - Droplets with 5 cells: 0.0\n",
      "*   - Droplets with 6 cells: 0.0\n",
      "*   - Droplets with 7 cells: 0.0\n",
      "*   - Droplets with 8 cells: 0.0\n",
      "*   - Droplets with 9 cells: 0.0\n"
     ]
    }
   ],
   "source": [
    "for input_name in input_files:\n",
    "    \n",
    "    # Get the group number and the video path\n",
    "    gp = int(input_name[-2:])\n",
    "    video_path = '{}/images/{}/group{}.mp4'.format(DATA_PATH, input_name, gp)\n",
    "    \n",
    "    # ================================================= #\n",
    "    #      Initialization of all components             #\n",
    "    # ================================================= #\n",
    "    \n",
    "    # Build the reading buffer\n",
    "    buff_read = ReadingBuffer(path_list=[video_path],\n",
    "                              buff_size=BUFFER_SIZE,\n",
    "                              device=DEVICE)\n",
    "    # The MOG filter thread\n",
    "    buff_mog = MOG_filter(input_buffer=buff_read,\n",
    "                          buff_size=BUFFER_SIZE,\n",
    "                          device=DEVICE)\n",
    "    # The Droplet detector/counter\n",
    "    buff_droplet = DropletDetector(input_buffer=buff_mog,\n",
    "                                   buff_size=BUFFER_SIZE,\n",
    "                                   device=DEVICE,\n",
    "                                   debug=False)\n",
    "\n",
    "    # A buffer for the UNet: do the tensorisation step\n",
    "    buff_UNet = UNetBuffer(input_buffer=buff_droplet,\n",
    "                           buff_size=BUFFER_SIZE,\n",
    "                           device=DEVICE,\n",
    "                           display=False)\n",
    "\n",
    "    # The UNet thread to count cells\n",
    "    UNet_thread = UNetThread(input_buffer=buff_UNet,\n",
    "                             model_path=UNET_PATH,\n",
    "                             model_name=UNET_NAME,\n",
    "                             device=DEVICE,\n",
    "                             batch_size=10,\n",
    "                             debug=False)\n",
    "    start_time = time.time()\n",
    "    buff_read.start()\n",
    "    buff_mog.start()\n",
    "    buff_droplet.start()\n",
    "    buff_UNet.start()\n",
    "    UNet_thread.start()\n",
    "    \n",
    "    # ================================================= #\n",
    "    #                  Working Loop                     #\n",
    "    # ================================================= #\n",
    "    \n",
    "    while not UNet_thread.end:\n",
    "        # Wait the end of the predictions\n",
    "        time.sleep(0.1)\n",
    "        \n",
    "    # Get the execution time\n",
    "    end_time = time.time()\n",
    "    \n",
    "    # ================================================= #\n",
    "    #                  Export results                   #\n",
    "    # ================================================= #\n",
    "    \n",
    "    print('* -------------------------------------------- *')\n",
    "    print('* End of predictions for {}'.format(input_name))\n",
    "    print('* Total readed frames: {}'.format(buff_read.frame_idx))\n",
    "    print('* Detected droplets: {}'.format(buff_droplet.drop_counter))\n",
    "    print('* Detected cells: {}'.format(UNet_thread.total_cell))\n",
    "    print('* Computing time: {}'.format(end_time - start_time))\n",
    "    total_frame_idx = buff_read.frame_idx\n",
    "    print('* Frames per second: {}'.format(total_frame_idx / (end_time - start_time)))\n",
    "    \n",
    "    # We deduce the number of droplets without cell\n",
    "    nb_zero_cell = buff_droplet.drop_counter - sum(UNet_thread.histogram)\n",
    "    UNet_thread.histogram[0] = nb_zero_cell\n",
    "    # We build the histogram\n",
    "    histo = []\n",
    "    i = 0\n",
    "    print('* Histogram of the number of cell per droplet:')\n",
    "    for itm in UNet_thread.histogram.tolist():\n",
    "        histo.append(str(int(itm)))\n",
    "        print('*   - Droplets with {} cells: {}'.format(i, itm))\n",
    "        i += 1\n",
    "    \n",
    "    # Write it in the output file: \n",
    "    f = open('{}/{}_histo.csv'.format(OUTPUT_PATH, input_name), 'w')\n",
    "    f.write(','.join(histo))\n",
    "    f.close()\n",
    "    \n",
    "    # Export detected object coordinates\n",
    "    results_drp = buff_droplet.final_results\n",
    "    results_cell = UNet_thread.final_results\n",
    "    to_print = []\n",
    "    # Investigate all frame index\n",
    "    for i in range(0, total_frame_idx):\n",
    "        x_start = 0\n",
    "        finded = False\n",
    "        # Check if droplet at this index\n",
    "        for j in range(0, len(results_drp)):\n",
    "            if results_drp[j][0] == i:\n",
    "                to_print.append('frame_{},{},0,{},240,droplet'.format(i,\n",
    "                                                                        results_drp[j][1],\n",
    "                                                                        results_drp[j][2]))\n",
    "                x_start = results_drp[j][1]\n",
    "                finded = True\n",
    "                \n",
    "        # If we have a droplet at this frame, we check if cells are present\n",
    "        if finded: \n",
    "            for j in range(0, len(results_cell)):\n",
    "                if results_cell[j][0] == i:\n",
    "                    to_print.append('frame_{},{},{},{},{},cell'.format(i,\n",
    "                                                                         results_cell[j][3]-20+x_start,\n",
    "                                                                         results_cell[j][4]-20,\n",
    "                                                                         results_cell[j][3]+20+x_start,\n",
    "                                                                         results_cell[j][4]+20))\n",
    "    # Save in a file\n",
    "    f = open('{}/{}_track.csv'.format(OUTPUT_PATH, input_name), 'w')\n",
    "    f.write('\\n'.join(to_print))\n",
    "    f.close()"
   ]
  },
  {
   "cell_type": "markdown",
   "id": "4c51be88",
   "metadata": {},
   "source": [
    "### Evaluation loop\n",
    "In this part, we will compare outputs of the precedent algorithm to the annotations provided on the cytomine plateforme"
   ]
  },
  {
   "cell_type": "code",
   "execution_count": 7,
   "id": "3130add5",
   "metadata": {},
   "outputs": [
    {
     "name": "stderr",
     "output_type": "stream",
     "text": [
      "100%|███████████████████████████████████████████████████████████████████████████| 1251/1251 [00:00<00:00, 51780.51it/s]\n",
      "100%|███████████████████████████████████████████████████████████████████████████| 1261/1261 [00:00<00:00, 41753.31it/s]\n",
      "100%|███████████████████████████████████████████████████████████████████████████| 1265/1265 [00:00<00:00, 34908.15it/s]\n",
      "100%|███████████████████████████████████████████████████████████████████████████| 1262/1262 [00:00<00:00, 34728.71it/s]\n",
      "100%|███████████████████████████████████████████████████████████████████████████| 1263/1263 [00:00<00:00, 34605.93it/s]\n",
      "100%|███████████████████████████████████████████████████████████████████████████| 1262/1262 [00:00<00:00, 35829.58it/s]\n",
      "100%|███████████████████████████████████████████████████████████████████████████| 1262/1262 [00:00<00:00, 41686.71it/s]\n",
      "100%|███████████████████████████████████████████████████████████████████████████| 1265/1265 [00:00<00:00, 48448.11it/s]\n",
      "100%|███████████████████████████████████████████████████████████████████████████| 1261/1261 [00:00<00:00, 52229.99it/s]\n",
      "100%|███████████████████████████████████████████████████████████████████████████| 1265/1265 [00:00<00:00, 50077.81it/s]\n",
      "100%|███████████████████████████████████████████████████████████████████████████| 1262/1262 [00:00<00:00, 27875.44it/s]\n",
      "100%|███████████████████████████████████████████████████████████████████████████| 1141/1141 [00:00<00:00, 32378.26it/s]\n",
      "100%|███████████████████████████████████████████████████████████████████████████| 1255/1255 [00:00<00:00, 59559.98it/s]\n",
      "100%|███████████████████████████████████████████████████████████████████████████| 1067/1067 [00:00<00:00, 76195.15it/s]\n",
      "100%|███████████████████████████████████████████████████████████████████████████| 1266/1266 [00:00<00:00, 34005.26it/s]\n",
      "100%|███████████████████████████████████████████████████████████████████████████| 1260/1260 [00:00<00:00, 30610.39it/s]\n",
      "100%|███████████████████████████████████████████████████████████████████████████| 1259/1259 [00:00<00:00, 32969.72it/s]\n",
      "100%|███████████████████████████████████████████████████████████████████████████| 1264/1264 [00:00<00:00, 34029.12it/s]\n",
      "100%|███████████████████████████████████████████████████████████████████████████| 1266/1266 [00:00<00:00, 32261.33it/s]\n",
      "100%|███████████████████████████████████████████████████████████████████████████| 1261/1261 [00:00<00:00, 32190.44it/s]"
     ]
    },
    {
     "name": "stdout",
     "output_type": "stream",
     "text": [
      "* Droplets results: \n",
      "*   - True positives: 2850\n",
      "*   - False positives: 285\n",
      "*   - False negatives: 66\n",
      "*   - Mean IOU: 0.9503001585040819\n",
      "* Cells results: \n",
      "*   - True positives: 637\n",
      "*   - False positives: 51\n",
      "*   - False negatives: 55\n",
      "*   - Mean euclidean distance: 4.624784799985664\n",
      "*   - Mean IOU: 0.5595997872887679\n"
     ]
    },
    {
     "name": "stderr",
     "output_type": "stream",
     "text": [
      "\n"
     ]
    }
   ],
   "source": [
    "drp_true_positive = 0\n",
    "drp_false_positive = 0\n",
    "drp_false_negative = 0\n",
    "drp_IOU = []\n",
    "cell_true_positive = 0\n",
    "cell_false_positive = 0\n",
    "cell_false_negative = 0\n",
    "cell_dist = []\n",
    "cell_iou = []\n",
    "\n",
    "for input_name in input_files:\n",
    "    \n",
    "    # Load predictions and annotations \n",
    "    preds = pd.read_csv('{}/{}_track.csv'.format(OUTPUT_PATH, input_name), header=None, sep=',')\n",
    "    annot = pd.read_csv('{}/annotations/{}/{}.csv'.format(DATA_PATH, input_name, input_name), sep=';')\n",
    "    # Sort the input by frame index order\n",
    "    annot = annot.sort_values(by=['Slice'], ascending=True, ignore_index=True)\n",
    "    \n",
    "    # ================================================= #\n",
    "    #               Annotations conversion              #\n",
    "    #  We transform the annotation file to the same     #\n",
    "    #  format that the prediction file:                 #\n",
    "    #    - Only consider full droplets (>250pxl width)  #\n",
    "    #    - Only keep the second view of the droplet     #\n",
    "    #    - Only keep cells of this droplets             #\n",
    "    # ================================================= #\n",
    "    max_slice = annot['Slice'].max()\n",
    "    once_seen_droplet = []\n",
    "    twice_seen_droplet = []\n",
    "    new_annot = []\n",
    "\n",
    "    for i in range(0, max_slice):\n",
    "        \n",
    "        # Get annotations at this frame index if exists and convert it in a working format\n",
    "        tmp = convert_annot(annot[annot['Slice'] == i])\n",
    "\n",
    "        if len(tmp) == 0:\n",
    "            continue\n",
    "        \n",
    "        # Check if contain a droplet wider than 250pxl\n",
    "        for itm in tmp:\n",
    "            if itm [1] == 'droplet':\n",
    "                if itm[5] - itm[3] > 250:\n",
    "                    if not itm[2] in once_seen_droplet:\n",
    "                        once_seen_droplet.append(itm[2])\n",
    "                    elif itm[2] not in twice_seen_droplet:\n",
    "                        twice_seen_droplet.append(itm[2])\n",
    "                        \n",
    "                        # Store the droplet and his cells in new_annot\n",
    "                        new_annot.append(itm)\n",
    "                        # Look at cells in this droplet\n",
    "                        for j in range(0, len(tmp)):\n",
    "                            if tmp[j][1] == 'cell':\n",
    "                                center_x = int((tmp[j][5] + tmp[j][3]) / 2)\n",
    "                                center_y = int((tmp[j][6] + tmp[j][4]) / 2)\n",
    "                                if center_x <= itm[5] and center_x >= itm[3]:\n",
    "                                    if center_y <= itm[6] and center_y >= itm[4]:\n",
    "                                        new_annot.append(tmp[j])\n",
    "    \n",
    "    f = open('Output_Results/{}_annot_test.csv'.format(input_name), 'w')\n",
    "    for itm in new_annot:\n",
    "        opt = []\n",
    "        for tmp in itm:\n",
    "            opt.append(str(tmp))\n",
    "        f.write(','.join(opt))\n",
    "        f.write('\\n')\n",
    "    f.close()\n",
    "    # ================================================= #\n",
    "    #      Compare predictions and targets              #\n",
    "    # ================================================= #\n",
    "    # Convert pred dataset\n",
    "    new_pred = convert_pred(preds)\n",
    "    max_pred_slice = int(preds.iloc[preds.shape[0]-1][0].replace('frame_', ''))\n",
    "    \n",
    "    for i in tqdm(range(0, max(max_pred_slice, max_slice))):\n",
    "        \n",
    "        # Get indexes in the results array if exists\n",
    "        pred_idx = get_result_idx(i, new_pred)\n",
    "        trg_idx = get_result_idx(i, new_annot)\n",
    "        \n",
    "        # Get false positive:\n",
    "        if pred_idx != -1 and trg_idx == -1:\n",
    "            drp_false_positive += 1\n",
    "        # Get false negative\n",
    "        elif pred_idx == -1 and trg_idx != -1:\n",
    "            drp_false_negative += 1\n",
    "        elif pred_idx != -1 and trg_idx != -1:\n",
    "            drp_true_positive += 1\n",
    "            # Compute the IOU:\n",
    "            drp_IOU.append(intersectionOverUnion(new_pred[pred_idx][3:], new_annot[trg_idx][3:]))\n",
    "            \n",
    "            # Now for the cells in this droplet\n",
    "            # Get following cells (associated with this droplet)\n",
    "            pred_cells = []\n",
    "            idx = pred_idx\n",
    "            while idx + 1 < len(new_pred):\n",
    "                idx += 1\n",
    "                if new_pred[idx][1] == 'cell':\n",
    "                    pred_cells.append(new_pred[idx])\n",
    "                else:\n",
    "                    break\n",
    "            trg_cells = []\n",
    "            idx = trg_idx\n",
    "            while idx + 1 < len(new_annot):\n",
    "                idx += 1\n",
    "                if new_annot[idx][1] == 'cell':\n",
    "                    trg_cells.append(new_annot[idx])\n",
    "                else:\n",
    "                    break\n",
    "            tp, fp, fn, iou, dist = gound_truth_compare(pred_cells, trg_cells, iou_thresh=0.01)\n",
    "            cell_true_positive += tp\n",
    "            cell_false_positive += fp\n",
    "            cell_false_negative += fn\n",
    "            for dst in dist:\n",
    "                cell_dist.append(dst)\n",
    "            for io in iou:\n",
    "                cell_iou.append(io)\n",
    "\n",
    "\n",
    "print('* Droplets results: ')\n",
    "print('*   - True positives: {}'.format(drp_true_positive))\n",
    "print('*   - False positives: {}'.format(drp_false_positive))\n",
    "print('*   - False negatives: {}'.format(drp_false_negative))\n",
    "print('*   - Mean IOU: {}'.format(np.mean(drp_IOU)))\n",
    "print('* Cells results: ')\n",
    "print('*   - True positives: {}'.format(cell_true_positive))\n",
    "print('*   - False positives: {}'.format(cell_false_positive))\n",
    "print('*   - False negatives: {}'.format(cell_false_negative))\n",
    "print('*   - Mean euclidean distance: {}'.format(np.mean(cell_dist)))\n",
    "print('*   - Mean IOU: {}'.format(np.mean(cell_iou)))\n",
    "            \n",
    "        "
   ]
  },
  {
   "cell_type": "code",
   "execution_count": null,
   "id": "0bb880fa",
   "metadata": {},
   "outputs": [],
   "source": []
  }
 ],
 "metadata": {
  "kernelspec": {
   "display_name": "Python 3 (ipykernel)",
   "language": "python",
   "name": "python3"
  },
  "language_info": {
   "codemirror_mode": {
    "name": "ipython",
    "version": 3
   },
   "file_extension": ".py",
   "mimetype": "text/x-python",
   "name": "python",
   "nbconvert_exporter": "python",
   "pygments_lexer": "ipython3",
   "version": "3.9.7"
  }
 },
 "nbformat": 4,
 "nbformat_minor": 5
}